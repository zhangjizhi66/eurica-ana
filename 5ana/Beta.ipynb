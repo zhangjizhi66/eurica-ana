{
 "cells": [
  {
   "cell_type": "markdown",
   "id": "8fcee2ac",
   "metadata": {},
   "source": [
    "# beta 衰变寿命及数目"
   ]
  },
  {
   "cell_type": "code",
   "execution_count": 1,
   "id": "6420ce51",
   "metadata": {},
   "outputs": [],
   "source": [
    "//%jsroot on\n",
    "TFile *ipf = new TFile(\"../MergedData/decay47_128.root\");\n",
    "TTree *tree = (TTree*)ipf->Get(\"tree\");\n",
    "TCanvas *c1 = new TCanvas;"
   ]
  },
  {
   "cell_type": "code",
   "execution_count": 2,
   "id": "464c7895",
   "metadata": {},
   "outputs": [
    {
     "name": "stdout",
     "output_type": "stream",
     "text": [
      "\n",
      "****************************************\n",
      "Minimizer is Linear / Migrad\n",
      "Chi2                      =      84.4561\n",
      "NDf                       =           99\n",
      "p0                        =      5137.02   +/-   7.1673      \n"
     ]
    },
    {
     "data": {
      "image/png": "[encoded data removed]",
      "text/plain": [
       "<IPython.core.display.Image object>"
      ]
     },
     "metadata": {},
     "output_type": "display_data"
    }
   ],
   "source": [
    "tree->Draw(\"decaytime>>hdt(500,0,5000)\");\n",
    "hdt->Fit(\"pol0\",\"\",\"\",4000,5000);\n",
    "TF1 *f0 = (TF1*)hdt->GetFunction(\"pol0\");\n",
    "c1->SetLogy(0);\n",
    "c1->Draw();"
   ]
  },
  {
   "cell_type": "markdown",
   "id": "91528259",
   "metadata": {},
   "source": [
    "## 拟合衰变曲线各个成分的贡献"
   ]
  },
  {
   "cell_type": "code",
   "execution_count": 3,
   "id": "db256c6a",
   "metadata": {},
   "outputs": [],
   "source": [
    "Double_t par_c = f0->GetParameter(0);\n",
    "Double_t lambda[4];\n",
    "Double_t Pb[3];\n",
    "Double_t Pn[2];\n",
    "\n",
    "Pb[0] = 0.907;//母核的beta衰变分支比\n",
    "Pn[0] = 1-Pb[0];//母核的beta-n衰变分支比\n",
    "Pb[1] = Pb[0];//beta子核的beta衰变分支比\n",
    "Pn[1] = 1-Pb[1];//beta子核的beta-n衰变分支比\n",
    "Pb[2] = Pb[0];//beta-n子核的beta衰变分支比\n",
    "\n",
    "lambda[0]=log(2)/280;//beta子核的衰变常数\n",
    "lambda[1]=log(2)/370;//beta-n子核的衰变常数\n",
    "lambda[2]=log(2)/840;//beta孙子核的衰变常数\n",
    "lambda[3]=log(2)/1090;//beta-n子核的beta子核的衰变常数"
   ]
  },
  {
   "cell_type": "code",
   "execution_count": 4,
   "id": "4de3cbb2",
   "metadata": {},
   "outputs": [],
   "source": [
    "TString s1 = \"[0]+[1]*TMath::Exp(-x*[2])\";\n",
    "TString s2, s5, s3, s61, s62;\n",
    "s2.Form(\"+ [1] * %f * %f * (TMath::Exp(-[2] * x) / (%f - [2]) + TMath::Exp(-%f * x) / ([2] - %f))\",\n",
    "        Pb[0], lambda[0], lambda[0], lambda[0], lambda[0]);\n",
    "s5.Form(\"+ [1] * %f * %f * (TMath::Exp(-[2] * x) / (%f - [2]) + TMath::Exp(-%f * x) / ([2] - %f))\",\n",
    "        Pn[0], lambda[1], lambda[1], lambda[1], lambda[1]);\n",
    "s3.Form(\"+ [1] * %f * %f * %f * %f * (TMath::Exp(-[2] * x) / ((%f - [2])*(%f - [2])) + TMath::Exp(-%f * x) / (([2] - %f)*(%f - %f))+ TMath::Exp(-%f * x) / (([2] - %f)*(%f - %f)))\",\n",
    "        Pb[0], Pb[1], lambda[0], lambda[2], lambda[0], lambda[2], lambda[0], lambda[0], lambda[2], lambda[0], lambda[2], lambda[2], lambda[0], lambda[2] );\n",
    "s61.Form(\"+ [1] * %f * %f * %f * %f * (TMath::Exp(-[2] * x) / ((%f - [2])*(%f - [2])) + TMath::Exp(-%f * x) / (([2] - %f)*(%f - %f))+ TMath::Exp(-%f * x) / (([2] - %f)*(%f - %f)))\",\n",
    "         Pb[0], Pn[1], lambda[0], lambda[3], lambda[0], lambda[3], lambda[0], lambda[0], lambda[3], lambda[0], lambda[3], lambda[3], lambda[0], lambda[3]);\n",
    "s62.Form(\"+ [1] * %f * %f * %f * %f * (TMath::Exp(-[2] * x) / ((%f - [2])*(%f - [2])) + TMath::Exp(-%f * x) / (([2] - %f)*(%f - %f))+ TMath::Exp(-%f * x) / (([2] - %f)*(%f - %f)))\",\n",
    "         Pn[0], Pb[2], lambda[1], lambda[3], lambda[1], lambda[3], lambda[1], lambda[1], lambda[3], lambda[1], lambda[3], lambda[3], lambda[1], lambda[3]);"
   ]
  },
  {
   "cell_type": "code",
   "execution_count": 5,
   "id": "6ef0f92a",
   "metadata": {},
   "outputs": [
    {
     "data": {
      "image/png": "[encoded data removed]",
      "text/plain": [
       "<IPython.core.display.Image object>"
      ]
     },
     "metadata": {},
     "output_type": "display_data"
    },
    {
     "name": "stdout",
     "output_type": "stream",
     "text": [
      " FCN=372.711 FROM MIGRAD    STATUS=CONVERGED     111 CALLS         112 TOTAL\n",
      "                     EDM=5.13945e-07    STRATEGY= 1      ERROR MATRIX ACCURATE \n",
      "  EXT PARAMETER                                   STEP         FIRST   \n",
      "  NO.   NAME      VALUE            ERROR          SIZE      DERIVATIVE \n",
      "   1  p0           5.03518e+03   4.68602e+00   7.14341e-06   8.09788e-01\n",
      "   2  p1           2.26225e+04   1.12578e+02   1.01765e-05   7.28130e-01\n",
      "   3  p2           1.09420e-02   5.56859e-05   8.03102e-06  -1.14498e+00\n"
     ]
    }
   ],
   "source": [
    "//%jsroot on\n",
    "int maxT = 4000;\n",
    "TF1 *f = new TF1(\"f\",s1+s2+s5+s3+s61+s62,10,maxT);\n",
    "f->SetNpx(5000);\n",
    "f->SetParameter(0, par_c);\n",
    "f->SetParLimits(0, 0, par_c*2);\n",
    "f->SetParameter(1, 100);\n",
    "f->SetParLimits(1, 0, 1e5);\n",
    "f->SetParameter(2, log(2)/60);\n",
    "f->SetParLimits(2, 0, log(2)/10);\n",
    "hdt->Fit(f, \"R\");\n",
    "c1->Draw();"
   ]
  },
  {
   "cell_type": "code",
   "execution_count": 6,
   "id": "141b8fe5",
   "metadata": {},
   "outputs": [],
   "source": [
    "%jsroot off"
   ]
  },
  {
   "cell_type": "code",
   "execution_count": 7,
   "id": "e145ee0d",
   "metadata": {},
   "outputs": [],
   "source": [
    "TString ss1 = \"[0]*TMath::Exp(-x*[1])\";\n",
    "TF1* f1 = new TF1(\"f1\", ss1 , 0, maxT);\n",
    "f1->SetParameter(0, f->GetParameter(1));\n",
    "f1->SetParameter(1, f->GetParameter(2));\n",
    "f1->SetLineColor(kBlue);\n",
    "f1->Draw();\n",
    "hdt->Draw(\"same\");"
   ]
  },
  {
   "cell_type": "code",
   "execution_count": 8,
   "id": "6e3ca8fa",
   "metadata": {},
   "outputs": [],
   "source": [
    "TString ss2;\n",
    "ss2.Form(\"[0]*%f*%f*(TMath::Exp(-[1]*x) / (%f-[1]) + TMath::Exp(-%f*x) / ([1]-%f))\",\n",
    "         lambda[0], Pb[0], lambda[0], lambda[0], lambda[0]);\n",
    "TF1* f2 = new TF1(\"f2\", ss2, 0, maxT);\n",
    "f2->SetParameter(0, f->GetParameter(1));\n",
    "f2->SetParameter(1, f->GetParameter(2));\n",
    "f2->SetLineColor(kGreen);\n",
    "f2->Draw(\"same\");"
   ]
  },
  {
   "cell_type": "code",
   "execution_count": 9,
   "id": "47499e67",
   "metadata": {},
   "outputs": [],
   "source": [
    "TString ss5;\n",
    "ss5.Form(\"[0] * %f *%f * (TMath::Exp(-[1] * x) / (%f - [1]) + TMath::Exp(-%f * x) / ([1] - %f))\", lambda[1], Pn[0], lambda[1], lambda[1], lambda[1]);\n",
    "TF1* f5 = new TF1(\"f5\", ss5, 0, maxT);\n",
    "f5->SetParameter(0, f->GetParameter(1));\n",
    "f5->SetParameter(1, f->GetParameter(2));\n",
    "f5->SetLineColor(kYellow);\n",
    "f5->Draw(\"same\");"
   ]
  },
  {
   "cell_type": "code",
   "execution_count": 10,
   "id": "188bc36b",
   "metadata": {},
   "outputs": [],
   "source": [
    "TString ss3,ss61,ss62;\n",
    "ss3.Form(\"[0] * %f * %f * %f * %f * (TMath::Exp(-[1] * x) / ((%f - [1])*(%f - [1])) + TMath::Exp(-%f * x) / (([1] - %f)*(%f - %f))+ TMath::Exp(-%f * x) / (([1] - %f)*(%f - %f)))\",Pb[0], Pb[1], lambda[0], lambda[2], lambda[0], lambda[2], lambda[0], lambda[0], lambda[2], lambda[0], lambda[2], lambda[2], lambda[0], lambda[2]);\n",
    "ss61.Form(\"+[0] * %f * %f * %f * %f * (TMath::Exp(-[1] * x) / ((%f - [1])*(%f - [1])) + TMath::Exp(-%f * x) / (([1] - %f)*(%f - %f))+ TMath::Exp(-%f * x) / (([1] - %f)*(%f - %f)))\",Pb[0], Pn[1], lambda[0], lambda[3], lambda[0], lambda[3], lambda[0], lambda[0], lambda[3], lambda[0], lambda[3], lambda[3], lambda[0], lambda[3]);\n",
    "ss62.Form(\"+[0] * %f * %f * %f * %f * (TMath::Exp(-[1] * x) / ((%f - [1])*(%f - [1])) + TMath::Exp(-%f * x) / (([1] - %f)*(%f - %f))+ TMath::Exp(-%f * x) / (([1] - %f)*(%f - %f)))\",Pn[0], Pb[2], lambda[1], lambda[3], lambda[1], lambda[3], lambda[1], lambda[1], lambda[3], lambda[1], lambda[3], lambda[3], lambda[1], lambda[3]);\n",
    "TF1* f36 = new TF1(\"f36\", ss3+ss61+ss62, 0, maxT);\n",
    "f36->SetParameter(0, f->GetParameter(1));\n",
    "f36->SetParameter(1, f->GetParameter(2));\n",
    "f36->SetLineColor(kPink);\n",
    "f36->Draw(\"same\");"
   ]
  },
  {
   "cell_type": "code",
   "execution_count": 11,
   "id": "3e35164f",
   "metadata": {},
   "outputs": [
    {
     "data": {
      "image/png": "[encoded data removed]",
      "text/plain": [
       "<IPython.core.display.Image object>"
      ]
     },
     "metadata": {},
     "output_type": "display_data"
    },
    {
     "name": "stdout",
     "output_type": "stream",
     "text": [
      "Beta halflife: 63.3472 +- 0.322386"
     ]
    }
   ],
   "source": [
    "c1->Draw();\n",
    "cout<<\"Beta halflife: \"<<log(2)/f->GetParameter(2)<<\" +- \"<<log(2)/f->GetParameter(2)*f->GetParError(2)/f->GetParameter(2);"
   ]
  },
  {
   "cell_type": "code",
   "execution_count": 12,
   "id": "bdfad3e9",
   "metadata": {},
   "outputs": [
    {
     "data": {
      "image/png": "[encoded data removed]",
      "text/plain": [
       "<IPython.core.display.Image object>"
      ]
     },
     "metadata": {},
     "output_type": "display_data"
    }
   ],
   "source": [
    "TH1F *hres = new TH1F(\"hres\",\"residual error\",500,0,5000);\n",
    "for (int i=10; i<=500; i++){\n",
    "    hres->SetBinContent(i, hdt->GetBinContent(i) - f->Eval(hdt->GetBinLowEdge(i)+(double)hdt->GetBinWidth(i)/2));\n",
    "}\n",
    "hres->Draw();\n",
    "c1->Draw();"
   ]
  },
  {
   "cell_type": "markdown",
   "id": "9b17f62c",
   "metadata": {},
   "source": [
    "## 计算beta数目"
   ]
  },
  {
   "cell_type": "code",
   "execution_count": 13,
   "id": "34e60020",
   "metadata": {},
   "outputs": [],
   "source": [
    "double x,sum;"
   ]
  },
  {
   "cell_type": "code",
   "execution_count": 14,
   "id": "2175f897",
   "metadata": {},
   "outputs": [
    {
     "name": "stdout",
     "output_type": "stream",
     "text": [
      "Beta number: 193339\n",
      "Normalized beta number: 206749\n"
     ]
    }
   ],
   "source": [
    "x = 250;\n",
    "sum = f1->Integral(0,x)/hdt->GetBinWidth(1)/(1-exp(-f1->GetParameter(1)*x));\n",
    "cout<<\"Beta number: \"<<f1->Integral(0,x)/hdt->GetBinWidth(1)<<endl;\n",
    "cout<<\"Normalized beta number: \"<<sum<<endl;"
   ]
  }
 ],
 "metadata": {
  "kernelspec": {
   "display_name": "ROOT C++",
   "language": "c++",
   "name": "root"
  },
  "language_info": {
   "codemirror_mode": "text/x-c++src",
   "file_extension": ".C",
   "mimetype": " text/x-c++src",
   "name": "c++"
  }
 },
 "nbformat": 4,
 "nbformat_minor": 5
}
